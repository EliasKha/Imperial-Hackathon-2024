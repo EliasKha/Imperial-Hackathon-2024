{
 "cells": [
  {
   "cell_type": "code",
   "execution_count": null,
   "metadata": {},
   "outputs": [
    {
     "ename": "FileNotFoundError",
     "evalue": "[Errno 2] No such file or directory: 'encrypted_data/release_3675.crypt'",
     "output_type": "error",
     "traceback": [
      "\u001b[1;31m---------------------------------------------------------------------------\u001b[0m",
      "\u001b[1;31mFileNotFoundError\u001b[0m                         Traceback (most recent call last)",
      "Cell \u001b[1;32mIn[7], line 5\u001b[0m\n\u001b[0;32m      2\u001b[0m \u001b[38;5;28;01mimport\u001b[39;00m \u001b[38;5;21;01mcryptpandas\u001b[39;00m \u001b[38;5;28;01mas\u001b[39;00m \u001b[38;5;21;01mcrp\u001b[39;00m\n\u001b[0;32m      3\u001b[0m \u001b[38;5;28;01mimport\u001b[39;00m \u001b[38;5;21;01mos\u001b[39;00m\n\u001b[1;32m----> 5\u001b[0m decrypted_df \u001b[38;5;241m=\u001b[39m \u001b[43mcrp\u001b[49m\u001b[38;5;241;43m.\u001b[39;49m\u001b[43mread_encrypted\u001b[49m\u001b[43m(\u001b[49m\u001b[43mpath\u001b[49m\u001b[38;5;241;43m=\u001b[39;49m\u001b[38;5;124;43m'\u001b[39;49m\u001b[38;5;124;43mencrypted_data/release_3675.crypt\u001b[39;49m\u001b[38;5;124;43m'\u001b[39;49m\u001b[43m,\u001b[49m\u001b[43m \u001b[49m\u001b[43mpassword\u001b[49m\u001b[38;5;241;43m=\u001b[39;49m\u001b[38;5;124;43m'\u001b[39;49m\u001b[38;5;124;43mPSI9bPh4aM3iQMuE\u001b[39;49m\u001b[38;5;124;43m'\u001b[39;49m\u001b[43m)\u001b[49m\n\u001b[0;32m      7\u001b[0m decrypted_df\u001b[38;5;241m.\u001b[39mto_csv(\u001b[38;5;124m'\u001b[39m\u001b[38;5;124mdecrypted_data/release_3675.csv\u001b[39m\u001b[38;5;124m'\u001b[39m)\n",
      "File \u001b[1;32mc:\\Users\\elias\\AppData\\Local\\Programs\\Python\\Python311\\Lib\\site-packages\\cryptpandas\\encrypt_decrypt.py:80\u001b[0m, in \u001b[0;36mread_encrypted\u001b[1;34m(path, password, salt)\u001b[0m\n\u001b[0;32m     78\u001b[0m     encrypted_df \u001b[38;5;241m=\u001b[39m path\u001b[38;5;241m.\u001b[39mread()\n\u001b[0;32m     79\u001b[0m \u001b[38;5;28;01melse\u001b[39;00m:\n\u001b[1;32m---> 80\u001b[0m     \u001b[38;5;28;01mwith\u001b[39;00m \u001b[38;5;28;43mopen\u001b[39;49m\u001b[43m(\u001b[49m\u001b[43mpath\u001b[49m\u001b[43m,\u001b[49m\u001b[43m \u001b[49m\u001b[38;5;124;43m'\u001b[39;49m\u001b[38;5;124;43mrb\u001b[39;49m\u001b[38;5;124;43m'\u001b[39;49m\u001b[43m)\u001b[49m \u001b[38;5;28;01mas\u001b[39;00m f:\n\u001b[0;32m     81\u001b[0m         encrypted_df \u001b[38;5;241m=\u001b[39m f\u001b[38;5;241m.\u001b[39mread()\n\u001b[0;32m     82\u001b[0m key \u001b[38;5;241m=\u001b[39m _get_key(password, salt\u001b[38;5;241m=\u001b[39msalt)\n",
      "\u001b[1;31mFileNotFoundError\u001b[0m: [Errno 2] No such file or directory: 'encrypted_data/release_3675.crypt'"
     ]
    }
   ],
   "source": [
    "import pandas as pd\n",
    "import cryptpandas as crp\n",
    "import os\n",
    "\n",
    "decrypted_df = crp.read_encrypted(path='data/encrypted_data/release_3675.crypt', password='PSI9bPh4aM3iQMuE')\n",
    "\n",
    "decrypted_df.to_csv('data/decrypted_data/release_3675.csv')"
   ]
  },
  {
   "cell_type": "code",
   "execution_count": 10,
   "metadata": {},
   "outputs": [],
   "source": [
    "\n",
    "file_list = os.listdir('data/decrypted_data')\n",
    "\n",
    "csv_files = [f for f in file_list if f.endswith('.csv')]\n",
    "\n",
    "merged_data = pd.concat([pd.read_csv(f'data/decrypted_data/{file}') for file in csv_files], ignore_index=True)\n",
    "\n",
    "merged_data.to_csv('data/merged_data.csv', index=False)\n"
   ]
  }
 ],
 "metadata": {
  "kernelspec": {
   "display_name": "Python 3",
   "language": "python",
   "name": "python3"
  },
  "language_info": {
   "codemirror_mode": {
    "name": "ipython",
    "version": 3
   },
   "file_extension": ".py",
   "mimetype": "text/x-python",
   "name": "python",
   "nbconvert_exporter": "python",
   "pygments_lexer": "ipython3",
   "version": "3.11.5"
  }
 },
 "nbformat": 4,
 "nbformat_minor": 2
}

{
 "cells": [
  {
   "cell_type": "code",
   "execution_count": 167,
   "metadata": {},
   "outputs": [],
   "source": [
    "import pandas as pd\n",
    "import pandas as pd\n",
    "import numpy as np\n",
    "import matplotlib.pyplot as plt\n",
    "from statsmodels.tsa.stattools import adfuller\n",
    "\n",
    "df = pd.read_csv('data/merged_data.csv').drop(['strat_9','strat_14','strat_5','strat_4'], axis=1).dropna()\n"
   ]
  },
  {
   "cell_type": "code",
   "execution_count": 226,
   "metadata": {},
   "outputs": [],
   "source": [
    "import pandas as pd\n",
    "import numpy as np\n",
    "from scipy.stats import linregress\n",
    "\n",
    "def select_columns_with_high_r_squared(df_returns, r_squared_threshold=0.8):\n",
    "    results = {}\n",
    "    columns = []\n",
    "    strat_slope_map = {}\n",
    "\n",
    "    for column in df_returns.columns:\n",
    "        x = np.arange(len(df_returns))\n",
    "        y = df_returns[column].cumsum()\n",
    "        slope, intercept, r_value, p_value, std_err = linregress(x, y)\n",
    "        \n",
    "        results[column] = {\n",
    "            'slope': slope,\n",
    "            'intercept': intercept,\n",
    "            'r_squared': r_value**2,\n",
    "            'p_value': p_value,\n",
    "            'std_err': std_err\n",
    "        }\n",
    "        \n",
    "        if r_value**2 > r_squared_threshold:\n",
    "            columns.append(column)\n",
    "    \n",
    "    for column in columns:\n",
    "        slope_over_std = results[column]['slope'] / results[column]['std_err']\n",
    "        strat_slope_map[column] = slope_over_std\n",
    "\n",
    "    total_sum = sum(strat_slope_map.values())\n",
    "    scaled_strat_slope_map = {strat: slope / total_sum for strat, slope in strat_slope_map.items()}\n",
    "\n",
    "    return scaled_strat_slope_map\n",
    "\n",
    "df_returns = df\n",
    "output = select_columns_with_high_r_squared(df_returns)"
   ]
  },
  {
   "cell_type": "code",
   "execution_count": null,
   "metadata": {},
   "outputs": [
    {
     "name": "stdout",
     "output_type": "stream",
     "text": [
      "1.8380927794306299\n"
     ]
    }
   ],
   "source": [
    "import pandas as pd\n",
    "import numpy as np\n",
    "import quantstats as qs\n",
    "\n",
    "def calculate_sharpe_ratio(df_returns, r_squared_threshold=0.8):\n",
    "    output = select_columns_with_high_r_squared(df_returns, r_squared_threshold)\n",
    "    scaled_slope_over_std_filtered = np.clip(list(output.values()), -0.1, 0.1)\n",
    "    columns = list(output.keys())\n",
    "    \n",
    "    returns = np.dot(scaled_slope_over_std_filtered, df_returns[columns].values.T)\n",
    "    \n",
    "    sharpe_ratio = qs.stats.sharpe(pd.Series(returns))\n",
    "    \n",
    "    return sharpe_ratio\n",
    "\n",
    "# Example usage:\n",
    "sharpe_ratio = calculate_sharpe_ratio(df_returns)\n",
    "print(sharpe_ratio)\n"
   ]
  },
  {
   "cell_type": "code",
   "execution_count": 232,
   "metadata": {},
   "outputs": [
    {
     "name": "stdout",
     "output_type": "stream",
     "text": [
      "{'strat_7': 0.06666666666666665, 'strat_8': 0.06666666666666665, 'strat_10': -0.06666666666666665, 'strat_19': 0.06666666666666665, 'strat_21': 0.06666666666666665, 'strat_24': 0.06666666666666665, 'strat_25': 0.06666666666666665, 'strat_26': 0.06666666666666665, 'strat_27': 0.06666666666666665, 'strat_29': 0.06666666666666665, 'strat_30': 0.06666666666666665, 'strat_31': 0.06666666666666665, 'strat_33': -0.06666666666666665, 'strat_34': 0.06666666666666665, 'strat_37': 0.06666666666666665, 'strat_38': 0.06666666666666665, 'strat_40': 0.06666666666666665, 'strat_41': 0.06666666666666665, 'strat_42': 0.06666666666666665}\n"
     ]
    }
   ],
   "source": [
    "import numpy as np\n",
    "\n",
    "def adjust_weights(weights, strat_names):\n",
    "    lower_bound = -0.1\n",
    "    upper_bound = 0.1\n",
    "    weights = np.array(weights)\n",
    "    adjusted_weights = np.where(weights > 0, upper_bound, lower_bound)\n",
    "    current_sum = np.sum(adjusted_weights)\n",
    "    scaling_factor = 1 / current_sum\n",
    "    adjusted_weights *= scaling_factor\n",
    "    \n",
    "    # Create a dictionary with strat names and adjusted weights\n",
    "    adjusted_weights_dict = {strat_names[i]: adjusted_weights[i] for i in range(len(strat_names))}\n",
    "    return adjusted_weights_dict\n",
    "\n",
    "# Example usage:\n",
    "initial_weights = np.clip(list(output.values()), -0.1, 0.1)\n",
    "strat_names = list(output.keys())  # assuming 'output' has the strategies as keys\n",
    "adjusted_weights_dict = adjust_weights(initial_weights, strat_names)\n",
    "\n",
    "print(adjusted_weights_dict)\n"
   ]
  },
  {
   "cell_type": "code",
   "execution_count": 236,
   "metadata": {},
   "outputs": [
    {
     "data": {
      "text/plain": [
       "{'strat_7': 0.06666666666666665,\n",
       " 'strat_8': 0.06666666666666665,\n",
       " 'strat_10': -0.06666666666666665,\n",
       " 'strat_19': 0.06666666666666665,\n",
       " 'strat_21': 0.06666666666666665,\n",
       " 'strat_24': 0.06666666666666665,\n",
       " 'strat_25': 0.06666666666666665,\n",
       " 'strat_26': 0.06666666666666665,\n",
       " 'strat_27': 0.06666666666666665,\n",
       " 'strat_29': 0.06666666666666665,\n",
       " 'strat_30': 0.06666666666666665,\n",
       " 'strat_31': 0.06666666666666665,\n",
       " 'strat_33': -0.06666666666666665,\n",
       " 'strat_34': 0.06666666666666665,\n",
       " 'strat_37': 0.06666666666666665,\n",
       " 'strat_38': 0.06666666666666665,\n",
       " 'strat_40': 0.06666666666666665,\n",
       " 'strat_41': 0.06666666666666665,\n",
       " 'strat_42': 0.06666666666666665,\n",
       " 'team_name': 'Longer Term Capital Management',\n",
       " 'passcode': 'DogCat'}"
      ]
     },
     "execution_count": 236,
     "metadata": {},
     "output_type": "execute_result"
    }
   ],
   "source": [
    "def generate_team_info_from_scaled_weights(scaled_weights, team_name, passcode):\n",
    "    strat_dict = {key: weight for i, (key, weight) in enumerate(scaled_weights.items())}\n",
    "    strat_dict['team_name'] = team_name\n",
    "    strat_dict['passcode'] = passcode\n",
    "    return strat_dict\n",
    "\n",
    "weights = adjusted_weights_dict\n",
    "team_name = 'Longer Term Capital Management'\n",
    "passcode = 'DogCat'\n",
    "\n",
    "output = generate_team_info_from_scaled_weights(weights, team_name, passcode)\n",
    "output"
   ]
  }
 ],
 "metadata": {
  "kernelspec": {
   "display_name": "Python 3",
   "language": "python",
   "name": "python3"
  },
  "language_info": {
   "codemirror_mode": {
    "name": "ipython",
    "version": 3
   },
   "file_extension": ".py",
   "mimetype": "text/x-python",
   "name": "python",
   "nbconvert_exporter": "python",
   "pygments_lexer": "ipython3",
   "version": "3.11.5"
  }
 },
 "nbformat": 4,
 "nbformat_minor": 2
}

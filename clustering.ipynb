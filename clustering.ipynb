{
 "cells": [
  {
   "cell_type": "code",
   "execution_count": 410,
   "metadata": {},
   "outputs": [],
   "source": [
    "import pandas as pd\n",
    "import pandas as pd\n",
    "\n",
    "df = pd.read_csv('data/merged_data.csv').drop(['strat_9','strat_14','strat_5','strat_4'], axis=1).fillna(0)\n"
   ]
  },
  {
   "cell_type": "code",
   "execution_count": 416,
   "metadata": {},
   "outputs": [
    {
     "name": "stdout",
     "output_type": "stream",
     "text": [
      "1.0000000000000002\n"
     ]
    }
   ],
   "source": [
    "# Given numerical values\n",
    "values = [\n",
    "    -0.023803622226665593, -0.017224230210854365, -0.04863676454429864, -0.04621342481308751,\n",
    "    -0.04863676454429864, -0.01518631555797725, -0.03361237630287348, 0.04863676454429864,\n",
    "    -0.018804204840069304, 0.03453552525824753, 0.03313319069573758, -0.04216647331014255,\n",
    "    0.04863676454429864, -0.0076349630266866345, -0.04863676454429864, 0.04774373469261887,\n",
    "    0.04863676454429864, 0.0459338857491553, 0.04863676454429864, 0.04863676454429864,\n",
    "    -0.02907742252565288, 0.04863676454429864, 0.015724299788172528, 0.04863676454429864,\n",
    "    0.023703132612985005, 0.03998268433623208, 0.013646076020177967, -0.025506792589677047\n",
    "]\n",
    "\n",
    "# Sum the values\n",
    "sum_value = sum(abs(np.array(values)))\n",
    "print(sum_value)\n"
   ]
  },
  {
   "cell_type": "markdown",
   "metadata": {},
   "source": [
    "## Linearity check"
   ]
  },
  {
   "cell_type": "code",
   "execution_count": 411,
   "metadata": {},
   "outputs": [
    {
     "name": "stderr",
     "output_type": "stream",
     "text": [
      "c:\\Users\\elias\\AppData\\Local\\Programs\\Python\\Python311\\Lib\\site-packages\\numpy\\lib\\function_base.py:2742: RuntimeWarning: invalid value encountered in subtract\n",
      "  X -= avg[:, None]\n"
     ]
    }
   ],
   "source": [
    "import pandas as pd\n",
    "import numpy as np\n",
    "from scipy.stats import linregress\n",
    "\n",
    "def select_columns_with_high_r_squared(df_returns, r_squared_threshold=0.8):\n",
    "    results = {}\n",
    "    columns = []\n",
    "    strat_slope_map = {}\n",
    "\n",
    "    for column in df_returns.columns:\n",
    "        x = np.arange(len(df_returns))\n",
    "        y = df_returns[column].cumsum()\n",
    "        slope, intercept, r_value, p_value, std_err = linregress(x, y)\n",
    "        \n",
    "        results[column] = {\n",
    "            'slope': slope,\n",
    "            'intercept': intercept,\n",
    "            'r_squared': r_value**2,\n",
    "            'p_value': p_value,\n",
    "            'std_err': std_err\n",
    "        }\n",
    "        \n",
    "        if r_value**2 > r_squared_threshold and p_value < .05:\n",
    "            columns.append(column)\n",
    "    \n",
    "    for column in columns:\n",
    "        slope_over_std = results[column]['slope'] / results[column]['std_err']\n",
    "        strat_slope_map[column] = slope_over_std\n",
    "\n",
    "    total_sum = sum(strat_slope_map.values())\n",
    "    scaled_strat_slope_map = {strat: slope / total_sum for strat, slope in strat_slope_map.items()}\n",
    "\n",
    "    return scaled_strat_slope_map\n",
    "\n",
    "df_returns = df\n",
    "output = select_columns_with_high_r_squared(df_returns)"
   ]
  },
  {
   "cell_type": "code",
   "execution_count": 412,
   "metadata": {},
   "outputs": [
    {
     "name": "stdout",
     "output_type": "stream",
     "text": [
      "1.784802430455841\n"
     ]
    }
   ],
   "source": [
    "import pandas as pd\n",
    "import numpy as np\n",
    "import quantstats as qs\n",
    "\n",
    "def calculate_sharpe_ratio(df_returns, r_squared_threshold=0.8):\n",
    "    output = select_columns_with_high_r_squared(df_returns, r_squared_threshold)\n",
    "    scaled_slope_over_std_filtered = np.clip(list(output.values()), -0.1, 0.1)\n",
    "    columns = list(output.keys())\n",
    "    \n",
    "    returns = np.dot(scaled_slope_over_std_filtered, df_returns[columns].values.T)\n",
    "    \n",
    "    sharpe_ratio = qs.stats.sharpe(pd.Series(returns))\n",
    "    \n",
    "    return sharpe_ratio\n",
    "\n",
    "# Example usage:\n",
    "sharpe_ratio = calculate_sharpe_ratio(df_returns)\n",
    "print(sharpe_ratio)\n"
   ]
  },
  {
   "cell_type": "code",
   "execution_count": null,
   "metadata": {},
   "outputs": [
    {
     "name": "stdout",
     "output_type": "stream",
     "text": [
      "{'strat_7': 0.05263157894736842, 'strat_8': 0.05263157894736842, 'strat_10': -0.05263157894736842, 'strat_19': 0.05263157894736842, 'strat_21': 0.05263157894736842, 'strat_24': 0.05263157894736842, 'strat_25': 0.05263157894736842, 'strat_26': 0.05263157894736842, 'strat_29': 0.05263157894736842, 'strat_30': 0.05263157894736842, 'strat_31': 0.05263157894736842, 'strat_32': 0.05263157894736842, 'strat_33': -0.05263157894736842, 'strat_34': 0.05263157894736842, 'strat_37': 0.05263157894736842, 'strat_38': 0.05263157894736842, 'strat_39': -0.05263157894736842, 'strat_40': 0.05263157894736842, 'strat_41': 0.05263157894736842, 'strat_42': 0.05263157894736842, 'strat_43': 0.05263157894736842, 'strat_45': 0.05263157894736842, 'strat_46': 0.05263157894736842, 'strat_48': 0.05263157894736842, 'strat_49': 0.05263157894736842}\n"
     ]
    }
   ],
   "source": [
    "import numpy as np\n",
    "\n",
    "def adjust_weights(weights, strat_names):\n",
    "    lower_bound = -0.1\n",
    "    upper_bound = 0.1\n",
    "    weights = np.array(weights)\n",
    "    adjusted_weights = np.where(weights > 0, upper_bound, lower_bound)\n",
    "    current_sum = np.sum(adjusted_weights)\n",
    "    scaling_factor = 1 / current_sum\n",
    "    adjusted_weights *= scaling_factor\n",
    "    \n",
    "    adjusted_weights_dict = {strat_names[i]: adjusted_weights[i] for i in range(len(strat_names))}\n",
    "    return adjusted_weights_dict\n",
    "\n",
    "initial_weights = np.clip(list(output.values()), -0.1, 0.1)\n",
    "strat_names = list(output.keys())  \n",
    "adjusted_weights_dict = adjust_weights(initial_weights, strat_names)\n",
    "\n",
    "print(adjusted_weights_dict)\n"
   ]
  },
  {
   "cell_type": "code",
   "execution_count": 414,
   "metadata": {},
   "outputs": [
    {
     "data": {
      "text/plain": [
       "{'strat_7': 0.05263157894736842,\n",
       " 'strat_8': 0.05263157894736842,\n",
       " 'strat_10': -0.05263157894736842,\n",
       " 'strat_19': 0.05263157894736842,\n",
       " 'strat_21': 0.05263157894736842,\n",
       " 'strat_24': 0.05263157894736842,\n",
       " 'strat_25': 0.05263157894736842,\n",
       " 'strat_26': 0.05263157894736842,\n",
       " 'strat_29': 0.05263157894736842,\n",
       " 'strat_30': 0.05263157894736842,\n",
       " 'strat_31': 0.05263157894736842,\n",
       " 'strat_32': 0.05263157894736842,\n",
       " 'strat_33': -0.05263157894736842,\n",
       " 'strat_34': 0.05263157894736842,\n",
       " 'strat_37': 0.05263157894736842,\n",
       " 'strat_38': 0.05263157894736842,\n",
       " 'strat_39': -0.05263157894736842,\n",
       " 'strat_40': 0.05263157894736842,\n",
       " 'strat_41': 0.05263157894736842,\n",
       " 'strat_42': 0.05263157894736842,\n",
       " 'strat_43': 0.05263157894736842,\n",
       " 'strat_45': 0.05263157894736842,\n",
       " 'strat_46': 0.05263157894736842,\n",
       " 'strat_48': 0.05263157894736842,\n",
       " 'strat_49': 0.05263157894736842,\n",
       " 'team_name': 'Longer Term Capital Management',\n",
       " 'passcode': 'DogCat'}"
      ]
     },
     "execution_count": 414,
     "metadata": {},
     "output_type": "execute_result"
    }
   ],
   "source": [
    "def generate_team_info_from_scaled_weights(scaled_weights, team_name, passcode):\n",
    "    strat_dict = {key: weight for i, (key, weight) in enumerate(scaled_weights.items())}\n",
    "    strat_dict['team_name'] = team_name\n",
    "    strat_dict['passcode'] = passcode\n",
    "    return strat_dict\n",
    "\n",
    "weights = adjusted_weights_dict\n",
    "team_name = 'Longer Term Capital Management'\n",
    "passcode = 'DogCat'\n",
    "\n",
    "output = generate_team_info_from_scaled_weights(weights, team_name, passcode)\n",
    "output"
   ]
  }
 ],
 "metadata": {
  "kernelspec": {
   "display_name": "Python 3",
   "language": "python",
   "name": "python3"
  },
  "language_info": {
   "codemirror_mode": {
    "name": "ipython",
    "version": 3
   },
   "file_extension": ".py",
   "mimetype": "text/x-python",
   "name": "python",
   "nbconvert_exporter": "python",
   "pygments_lexer": "ipython3",
   "version": "3.11.5"
  }
 },
 "nbformat": 4,
 "nbformat_minor": 2
}

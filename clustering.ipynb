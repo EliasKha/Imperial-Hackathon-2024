{
 "cells": [
  {
   "cell_type": "code",
   "execution_count": 167,
   "metadata": {},
   "outputs": [],
   "source": [
    "import pandas as pd\n",
    "import pandas as pd\n",
    "import numpy as np\n",
    "import matplotlib.pyplot as plt\n",
    "from statsmodels.tsa.stattools import adfuller\n",
    "\n",
    "df = pd.read_csv('data/merged_data.csv').drop(['strat_9','strat_14','strat_5','strat_4'], axis=1).dropna()\n"
   ]
  },
  {
   "cell_type": "code",
   "execution_count": 197,
   "metadata": {},
   "outputs": [
    {
     "name": "stdout",
     "output_type": "stream",
     "text": [
      "{'strat_7': 0.029089270856635117, 'strat_8': 0.04446405114123985, 'strat_10': -0.0640948294489768, 'strat_19': 0.029340891656754613, 'strat_21': 0.11824289003199435, 'strat_24': 0.041811437758140384, 'strat_25': 0.15740348528710307, 'strat_26': 0.03846526526197443, 'strat_27': 0.03541031527358192, 'strat_29': 0.04831569081960913, 'strat_30': 0.038411656488575224, 'strat_31': 0.0820484959672241, 'strat_33': -0.03213964137816105, 'strat_34': 0.038187551847570333, 'strat_37': 0.11917925848433794, 'strat_38': 0.16598251724915342, 'strat_40': 0.0327879783351551, 'strat_41': 0.0441240874295118, 'strat_42': 0.03296962693857686}\n"
     ]
    }
   ],
   "source": [
    "import pandas as pd\n",
    "import numpy as np\n",
    "from scipy.stats import linregress\n",
    "\n",
    "def select_columns_with_high_r_squared(df_returns, r_squared_threshold=0.8):\n",
    "    results = {}\n",
    "    columns = []\n",
    "    strat_slope_map = {}\n",
    "\n",
    "    for column in df_returns.columns:\n",
    "        x = np.arange(len(df_returns))\n",
    "        y = df_returns[column].cumsum()\n",
    "        slope, intercept, r_value, p_value, std_err = linregress(x, y)\n",
    "        \n",
    "        results[column] = {\n",
    "            'slope': slope,\n",
    "            'intercept': intercept,\n",
    "            'r_squared': r_value**2,\n",
    "            'p_value': p_value,\n",
    "            'std_err': std_err\n",
    "        }\n",
    "        \n",
    "        if r_value**2 > r_squared_threshold:\n",
    "            columns.append(column)\n",
    "    \n",
    "    for column in columns:\n",
    "        slope_over_std = results[column]['slope'] / results[column]['std_err']\n",
    "        strat_slope_map[column] = slope_over_std\n",
    "\n",
    "    total_sum = sum(strat_slope_map.values())\n",
    "    scaled_strat_slope_map = {strat: slope / total_sum for strat, slope in strat_slope_map.items()}\n",
    "\n",
    "    return scaled_strat_slope_map\n",
    "\n",
    "df_returns = df\n",
    "output = select_columns_with_high_r_squared(df_returns)\n",
    "print(output)\n"
   ]
  },
  {
   "cell_type": "code",
   "execution_count": 208,
   "metadata": {},
   "outputs": [
    {
     "name": "stdout",
     "output_type": "stream",
     "text": [
      "1.8380927794306299\n"
     ]
    },
    {
     "name": "stderr",
     "output_type": "stream",
     "text": [
      "c:\\Users\\elias\\AppData\\Local\\Programs\\Python\\Python311\\Lib\\site-packages\\numpy\\lib\\function_base.py:2742: RuntimeWarning: invalid value encountered in subtract\n",
      "  X -= avg[:, None]\n"
     ]
    }
   ],
   "source": [
    "import pandas as pd\n",
    "import numpy as np\n",
    "import quantstats as qs\n",
    "\n",
    "output = select_columns_with_high_r_squared(df_returns)\n",
    "\n",
    "scaled_slope_over_std_filtered = np.clip(list(output.values()), -0.1, 0.1)\n",
    "\n",
    "columns = list(output.keys())\n",
    "\n",
    "returns = np.dot(scaled_slope_over_std_filtered, df_returns[columns].values.T)\n",
    "\n",
    "cumulative_returns = pd.DataFrame(returns).cumsum()\n",
    "\n",
    "sharpe_ratio = qs.stats.sharpe(pd.Series(returns))\n",
    "print(sharpe_ratio)\n"
   ]
  },
  {
   "cell_type": "code",
   "execution_count": 210,
   "metadata": {},
   "outputs": [
    {
     "name": "stdout",
     "output_type": "stream",
     "text": [
      "Adjusted Weights: [ 0.06666667  0.06666667 -0.06666667  0.06666667  0.06666667  0.06666667\n",
      "  0.06666667  0.06666667  0.06666667  0.06666667  0.06666667  0.06666667\n",
      " -0.06666667  0.06666667  0.06666667  0.06666667  0.06666667  0.06666667\n",
      "  0.06666667]\n",
      "Sum of Adjusted Weights: 0.9999999999999998\n"
     ]
    }
   ],
   "source": [
    "import numpy as np\n",
    "\n",
    "def adjust_weights(weights):\n",
    "    lower_bound = -0.1\n",
    "    upper_bound = 0.1\n",
    "    weights = np.array(weights)\n",
    "    adjusted_weights = np.where(weights > 0, upper_bound, lower_bound)\n",
    "    current_sum = np.sum(adjusted_weights)\n",
    "    scaling_factor = 1 / current_sum\n",
    "    adjusted_weights *= scaling_factor\n",
    "    return adjusted_weights\n",
    "\n",
    "initial_weights = scaled_slope_over_std_filtered\n",
    "adjusted_weights = adjust_weights(initial_weights)\n",
    "\n",
    "print(\"Adjusted Weights:\", adjusted_weights)\n",
    "print(\"Sum of Adjusted Weights:\", np.sum(adjusted_weights))\n"
   ]
  }
 ],
 "metadata": {
  "kernelspec": {
   "display_name": "Python 3",
   "language": "python",
   "name": "python3"
  },
  "language_info": {
   "codemirror_mode": {
    "name": "ipython",
    "version": 3
   },
   "file_extension": ".py",
   "mimetype": "text/x-python",
   "name": "python",
   "nbconvert_exporter": "python",
   "pygments_lexer": "ipython3",
   "version": "3.11.5"
  }
 },
 "nbformat": 4,
 "nbformat_minor": 2
}
